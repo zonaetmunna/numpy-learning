{
 "cells": [
  {
   "cell_type": "code",
   "execution_count": 1,
   "id": "887023b4-b7ac-44f2-bc91-7f7fb0d8df3f",
   "metadata": {},
   "outputs": [
    {
     "name": "stdout",
     "output_type": "stream",
     "text": [
      "[array([1, 2]), array([3, 4]), array([5, 6])]\n"
     ]
    }
   ],
   "source": [
    "# splitting an array into equal-sized subarrays\n",
    "\n",
    "import numpy as np\n",
    "\n",
    "arr = np.array([1, 2, 3, 4, 5, 6])\n",
    "\n",
    "# Split the array into 3 equal parts along axis 0\n",
    "subarrays = np.split(arr, 3)\n",
    "\n",
    "print(subarrays)\n"
   ]
  },
  {
   "cell_type": "code",
   "execution_count": 2,
   "id": "f82e0c57-74c3-422b-a127-1aada6d4ef40",
   "metadata": {},
   "outputs": [
    {
     "name": "stdout",
     "output_type": "stream",
     "text": [
      "[array([1, 2]), array([3, 4]), array([5, 6])]\n"
     ]
    }
   ],
   "source": [
    "# specify the indices at which to split the array:\n",
    "\n",
    "import numpy as np\n",
    "\n",
    "arr = np.array([1, 2, 3, 4, 5, 6])\n",
    "\n",
    "# Split the array at indices 2 and 4 along axis 0\n",
    "subarrays = np.split(arr, [2, 4])\n",
    "\n",
    "print(subarrays)\n"
   ]
  },
  {
   "cell_type": "code",
   "execution_count": null,
   "id": "7bf2f547-6dce-4d33-8fbb-1dce1895f7ec",
   "metadata": {},
   "outputs": [],
   "source": []
  }
 ],
 "metadata": {
  "kernelspec": {
   "display_name": "Python 3 (ipykernel)",
   "language": "python",
   "name": "python3"
  },
  "language_info": {
   "codemirror_mode": {
    "name": "ipython",
    "version": 3
   },
   "file_extension": ".py",
   "mimetype": "text/x-python",
   "name": "python",
   "nbconvert_exporter": "python",
   "pygments_lexer": "ipython3",
   "version": "3.11.4"
  }
 },
 "nbformat": 4,
 "nbformat_minor": 5
}
