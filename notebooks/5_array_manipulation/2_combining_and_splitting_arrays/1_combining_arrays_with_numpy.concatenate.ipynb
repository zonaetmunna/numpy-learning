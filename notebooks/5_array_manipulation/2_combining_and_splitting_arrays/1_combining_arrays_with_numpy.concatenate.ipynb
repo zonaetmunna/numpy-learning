{
 "cells": [
  {
   "cell_type": "code",
   "execution_count": 1,
   "id": "7221c8fc-aa86-4b92-93c9-436ee5a167d3",
   "metadata": {},
   "outputs": [
    {
     "ename": "AxisError",
     "evalue": "axis 1 is out of bounds for array of dimension 1",
     "output_type": "error",
     "traceback": [
      "\u001b[1;31m---------------------------------------------------------------------------\u001b[0m",
      "\u001b[1;31mAxisError\u001b[0m                                 Traceback (most recent call last)",
      "Cell \u001b[1;32mIn[1], line 11\u001b[0m\n\u001b[0;32m      8\u001b[0m concatenated_rows \u001b[38;5;241m=\u001b[39m np\u001b[38;5;241m.\u001b[39mconcatenate((arr1, arr2), axis\u001b[38;5;241m=\u001b[39m\u001b[38;5;241m0\u001b[39m)\n\u001b[0;32m     10\u001b[0m \u001b[38;5;66;03m# Concatenate along axis 1 (columns)\u001b[39;00m\n\u001b[1;32m---> 11\u001b[0m concatenated_columns \u001b[38;5;241m=\u001b[39m \u001b[43mnp\u001b[49m\u001b[38;5;241;43m.\u001b[39;49m\u001b[43mconcatenate\u001b[49m\u001b[43m(\u001b[49m\u001b[43m(\u001b[49m\u001b[43marr1\u001b[49m\u001b[43m,\u001b[49m\u001b[43m \u001b[49m\u001b[43marr2\u001b[49m\u001b[43m)\u001b[49m\u001b[43m,\u001b[49m\u001b[43m \u001b[49m\u001b[43maxis\u001b[49m\u001b[38;5;241;43m=\u001b[39;49m\u001b[38;5;241;43m1\u001b[39;49m\u001b[43m)\u001b[49m  \u001b[38;5;66;03m# Raises an error for 1D arrays\u001b[39;00m\n\u001b[0;32m     13\u001b[0m \u001b[38;5;28mprint\u001b[39m(concatenated_rows)\n\u001b[0;32m     14\u001b[0m \u001b[38;5;28mprint\u001b[39m(concatenated_columns)\n",
      "\u001b[1;31mAxisError\u001b[0m: axis 1 is out of bounds for array of dimension 1"
     ]
    }
   ],
   "source": [
    "import numpy as np\n",
    "\n",
    "# Create two arrays\n",
    "arr1 = np.array([1, 2, 3])\n",
    "arr2 = np.array([4, 5, 6])\n",
    "\n",
    "# Concatenate along axis 0 (rows)\n",
    "concatenated_rows = np.concatenate((arr1, arr2), axis=0)\n",
    "\n",
    "# Concatenate along axis 1 (columns)\n",
    "concatenated_columns = np.concatenate((arr1, arr2), axis=1)  # Raises an error for 1D arrays\n",
    "\n",
    "print(concatenated_rows)\n",
    "print(concatenated_columns)\n"
   ]
  },
  {
   "cell_type": "code",
   "execution_count": 2,
   "id": "c685332d-9809-4d03-a40e-b1c50b7c0ee6",
   "metadata": {},
   "outputs": [
    {
     "name": "stdout",
     "output_type": "stream",
     "text": [
      "[[1 2]\n",
      " [3 4]\n",
      " [5 6]\n",
      " [7 8]]\n",
      "[[1 2 5 6]\n",
      " [3 4 7 8]]\n"
     ]
    }
   ],
   "source": [
    "# For multi-dimensional arrays, you can concatenate along any axis as long as the dimensions match:\n",
    "\n",
    "import numpy as np\n",
    "\n",
    "# Create two 2D arrays\n",
    "arr1 = np.array([[1, 2],\n",
    "                 [3, 4]])\n",
    "\n",
    "arr2 = np.array([[5, 6],\n",
    "                 [7, 8]])\n",
    "\n",
    "# Concatenate along axis 0 (rows)\n",
    "concatenated_rows = np.concatenate((arr1, arr2), axis=0)\n",
    "\n",
    "# Concatenate along axis 1 (columns)\n",
    "concatenated_columns = np.concatenate((arr1, arr2), axis=1)\n",
    "\n",
    "print(concatenated_rows)\n",
    "print(concatenated_columns)\n"
   ]
  },
  {
   "cell_type": "code",
   "execution_count": null,
   "id": "a6a7868a-1a38-4d34-86e3-a646262f31d2",
   "metadata": {},
   "outputs": [],
   "source": []
  }
 ],
 "metadata": {
  "kernelspec": {
   "display_name": "Python 3 (ipykernel)",
   "language": "python",
   "name": "python3"
  },
  "language_info": {
   "codemirror_mode": {
    "name": "ipython",
    "version": 3
   },
   "file_extension": ".py",
   "mimetype": "text/x-python",
   "name": "python",
   "nbconvert_exporter": "python",
   "pygments_lexer": "ipython3",
   "version": "3.11.4"
  }
 },
 "nbformat": 4,
 "nbformat_minor": 5
}
