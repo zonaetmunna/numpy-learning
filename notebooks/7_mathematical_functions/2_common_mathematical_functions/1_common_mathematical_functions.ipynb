{
 "cells": [
  {
   "cell_type": "code",
   "execution_count": 1,
   "id": "36a3cdab-d55c-41ef-a217-da893a735ca7",
   "metadata": {},
   "outputs": [
    {
     "name": "stdout",
     "output_type": "stream",
     "text": [
      "[0.         0.70710678 1.        ]\n",
      "[1.00000000e+00 7.07106781e-01 6.12323400e-17]\n"
     ]
    }
   ],
   "source": [
    "# 1. numpy.sin and numpy.cos\n",
    "# These functions calculate the sine and cosine of each element in an array. They are often used in trigonometric calculations.\n",
    "\n",
    "\n",
    "import numpy as np\n",
    "\n",
    "arr = np.array([0, np.pi/4, np.pi/2])\n",
    "\n",
    "sin_arr = np.sin(arr)\n",
    "cos_arr = np.cos(arr)\n",
    "\n",
    "print(sin_arr)  # Output: [0.         0.70710678 1.        ]\n",
    "print(cos_arr)  # Output: [1.00000000e+00 7.07106781e-01 6.12323400e-17]\n"
   ]
  },
  {
   "cell_type": "code",
   "execution_count": 2,
   "id": "250f86fb-787d-41ec-8816-b5562017ca28",
   "metadata": {},
   "outputs": [
    {
     "name": "stdout",
     "output_type": "stream",
     "text": [
      "[ 2.71828183  7.3890561  20.08553692]\n",
      "[0.         0.69314718 1.09861229]\n"
     ]
    }
   ],
   "source": [
    "# 2. numpy.exp and numpy.log\n",
    "# These functions calculate the exponential and natural logarithm of each element in an array. Exponential functions are often used in growth models, while logarithmic functions are used in various calculations and data transformations.\n",
    "\n",
    "import numpy as np\n",
    "\n",
    "arr = np.array([1, 2, 3])\n",
    "\n",
    "exp_arr = np.exp(arr)\n",
    "log_arr = np.log(arr)\n",
    "\n",
    "print(exp_arr)  # Output: [ 2.71828183  7.3890561  20.08553692]\n",
    "print(log_arr)  # Output: [0.         0.69314718 1.09861229]\n"
   ]
  },
  {
   "cell_type": "code",
   "execution_count": 3,
   "id": "5a61623b-cf9e-4fea-8ce1-086d04e13c8c",
   "metadata": {},
   "outputs": [
    {
     "name": "stdout",
     "output_type": "stream",
     "text": [
      "[2. 3. 4.]\n"
     ]
    }
   ],
   "source": [
    "# 3. numpy.sqrt\n",
    "# The numpy.sqrt function calculates the square root of each element in an array.\n",
    "\n",
    "import numpy as np\n",
    "\n",
    "arr = np.array([4, 9, 16])\n",
    "\n",
    "sqrt_arr = np.sqrt(arr)\n",
    "\n",
    "print(sqrt_arr)  # Output: [2. 3. 4.]\n"
   ]
  },
  {
   "cell_type": "code",
   "execution_count": 4,
   "id": "3087bcea-1079-4fcd-bff4-3ff344eb862c",
   "metadata": {},
   "outputs": [
    {
     "name": "stdout",
     "output_type": "stream",
     "text": [
      "[1 4 9]\n"
     ]
    }
   ],
   "source": [
    "# 4. numpy.power\n",
    "# The numpy.power function raises each element in an array to a specified power.\n",
    "\n",
    "import numpy as np\n",
    "\n",
    "arr = np.array([1, 2, 3])\n",
    "\n",
    "power_arr = np.power(arr, 2)\n",
    "\n",
    "print(power_arr)  # Output: [1 4 9]\n"
   ]
  },
  {
   "cell_type": "code",
   "execution_count": null,
   "id": "afcf6594-f2f3-4a52-b1ab-022358757fd1",
   "metadata": {},
   "outputs": [],
   "source": []
  }
 ],
 "metadata": {
  "kernelspec": {
   "display_name": "Python 3 (ipykernel)",
   "language": "python",
   "name": "python3"
  },
  "language_info": {
   "codemirror_mode": {
    "name": "ipython",
    "version": 3
   },
   "file_extension": ".py",
   "mimetype": "text/x-python",
   "name": "python",
   "nbconvert_exporter": "python",
   "pygments_lexer": "ipython3",
   "version": "3.11.4"
  }
 },
 "nbformat": 4,
 "nbformat_minor": 5
}
