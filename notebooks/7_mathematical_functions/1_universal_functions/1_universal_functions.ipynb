{
 "cells": [
  {
   "cell_type": "code",
   "execution_count": 2,
   "id": "b3529743-a93a-4805-9bec-eaff04230d18",
   "metadata": {},
   "outputs": [
    {
     "name": "stdout",
     "output_type": "stream",
     "text": [
      "[ 1  4  9 16 25]\n",
      "[1.         1.41421356 1.73205081 2.         2.23606798]\n",
      "[  2.71828183   7.3890561   20.08553692  54.59815003 148.4131591 ]\n",
      "[0.         0.69314718 1.09861229 1.38629436 1.60943791]\n"
     ]
    }
   ],
   "source": [
    "# 1. Using Ufuncs\n",
    "# You can use ufuncs by simply applying them to a NumPy array. Here are some examples:\n",
    "\n",
    "import numpy as np\n",
    "\n",
    "arr = np.array([1, 2, 3, 4, 5])\n",
    "\n",
    "# Applying ufuncs to the array\n",
    "square_arr = np.square(arr)   # Element-wise square\n",
    "sqrt_arr = np.sqrt(arr)       # Element-wise square root\n",
    "exp_arr = np.exp(arr)         # Element-wise exponential\n",
    "log_arr = np.log(arr)         # Element-wise natural logarithm\n",
    "\n",
    "print(square_arr)\n",
    "print(sqrt_arr)\n",
    "print(exp_arr)\n",
    "print(log_arr)\n"
   ]
  },
  {
   "cell_type": "code",
   "execution_count": 3,
   "id": "4cca5480-07a2-4395-81ba-23ce31367dff",
   "metadata": {},
   "outputs": [
    {
     "name": "stdout",
     "output_type": "stream",
     "text": [
      "[1 4 9]\n"
     ]
    }
   ],
   "source": [
    "# 2. Broadcasting with Ufuncs\n",
    "# Ufuncs also work seamlessly with broadcasting, as we discussed in a previous lesson. Broadcasting allows ufuncs to operate on arrays with different shapes or sizes, making your code more concise and efficient when dealing with multi-dimensional arrays.\n",
    "\n",
    "import numpy as np\n",
    "\n",
    "arr1 = np.array([1, 2, 3])\n",
    "arr2 = np.array([2, 2, 2])\n",
    "\n",
    "# Broadcasting with ufuncs\n",
    "result = np.power(arr1, arr2)  # Element-wise power operation\n",
    "\n",
    "print(result)  # Output: [1 4 9]\n"
   ]
  },
  {
   "cell_type": "code",
   "execution_count": null,
   "id": "e1713d4d-ab0b-4743-a2ae-938f5a215712",
   "metadata": {},
   "outputs": [],
   "source": []
  }
 ],
 "metadata": {
  "kernelspec": {
   "display_name": "Python 3 (ipykernel)",
   "language": "python",
   "name": "python3"
  },
  "language_info": {
   "codemirror_mode": {
    "name": "ipython",
    "version": 3
   },
   "file_extension": ".py",
   "mimetype": "text/x-python",
   "name": "python",
   "nbconvert_exporter": "python",
   "pygments_lexer": "ipython3",
   "version": "3.11.4"
  }
 },
 "nbformat": 4,
 "nbformat_minor": 5
}
