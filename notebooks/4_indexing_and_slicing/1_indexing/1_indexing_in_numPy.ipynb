{
 "cells": [
  {
   "cell_type": "code",
   "execution_count": 1,
   "id": "c6b5d1f8-79bc-48a2-8cda-eafacdf03141",
   "metadata": {},
   "outputs": [
    {
     "name": "stdout",
     "output_type": "stream",
     "text": [
      "1\n",
      "3\n"
     ]
    }
   ],
   "source": [
    "# 1.Accessing Individual Elements\n",
    "# You can access individual elements of a NumPy array by specifying the indices for each dimension. In NumPy, indexing starts at 0. Here's how you can access elements in a 1D array:\n",
    "\n",
    "import numpy as np\n",
    "\n",
    "arr = np.array([1, 2, 3, 4, 5])\n",
    "\n",
    "# Accessing individual elements\n",
    "element1 = arr[0]  # Access the first element (1)\n",
    "element3 = arr[2]  # Access the third element (3)\n",
    "\n",
    "print(element1)\n",
    "print(element3)\n"
   ]
  },
  {
   "cell_type": "code",
   "execution_count": 2,
   "id": "c00fabd8-e936-495f-b62b-afa6db0146ca",
   "metadata": {},
   "outputs": [
    {
     "name": "stdout",
     "output_type": "stream",
     "text": [
      "1\n",
      "8\n"
     ]
    }
   ],
   "source": [
    "# 2. Indexing in Multi-dimensional Arrays\n",
    "# For multi-dimensional arrays, you use a tuple of indices to access elements. The tuple represents the position of the element in each dimension. Here's how you can access elements in a 2D array:\n",
    "\n",
    "\n",
    "import numpy as np\n",
    "\n",
    "arr = np.array([[1, 2, 3],\n",
    "                [4, 5, 6],\n",
    "                [7, 8, 9]])\n",
    "\n",
    "# Accessing individual elements\n",
    "element_00 = arr[0, 0]  # Access the element in the first row and first column (1)\n",
    "element_21 = arr[2, 1]  # Access the element in the third row and second column (8)\n",
    "\n",
    "print(element_00)\n",
    "print(element_21)\n"
   ]
  },
  {
   "cell_type": "code",
   "execution_count": 3,
   "id": "7e623401-a246-4fea-ac14-d42805863cb8",
   "metadata": {},
   "outputs": [
    {
     "name": "stdout",
     "output_type": "stream",
     "text": [
      "5\n",
      "4\n"
     ]
    }
   ],
   "source": [
    "# 3. Negative Indices\n",
    "# You can also use negative indices to access elements from the end of the array. For example:\n",
    "\n",
    "import numpy as np\n",
    "\n",
    "arr = np.array([1, 2, 3, 4, 5])\n",
    "\n",
    "# Accessing elements using negative indices\n",
    "last_element = arr[-1]    # Access the last element (5)\n",
    "second_last = arr[-2]     # Access the second-to-last element (4)\n",
    "\n",
    "print(last_element)\n",
    "print(second_last)\n"
   ]
  },
  {
   "cell_type": "code",
   "execution_count": null,
   "id": "d36958ca-d366-4195-ba37-525a2e06a708",
   "metadata": {},
   "outputs": [],
   "source": []
  }
 ],
 "metadata": {
  "kernelspec": {
   "display_name": "Python 3 (ipykernel)",
   "language": "python",
   "name": "python3"
  },
  "language_info": {
   "codemirror_mode": {
    "name": "ipython",
    "version": 3
   },
   "file_extension": ".py",
   "mimetype": "text/x-python",
   "name": "python",
   "nbconvert_exporter": "python",
   "pygments_lexer": "ipython3",
   "version": "3.11.4"
  }
 },
 "nbformat": 4,
 "nbformat_minor": 5
}
