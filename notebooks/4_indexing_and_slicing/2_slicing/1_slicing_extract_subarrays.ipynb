{
 "cells": [
  {
   "cell_type": "code",
   "execution_count": 1,
   "id": "f03fa765-7282-45f3-8d68-f68e9aad4778",
   "metadata": {},
   "outputs": [
    {
     "name": "stdout",
     "output_type": "stream",
     "text": [
      "[2 3 4 5]\n",
      "[0 1 2 3 4]\n",
      "[0 2 4 6 8]\n"
     ]
    }
   ],
   "source": [
    "# 1. Basic Slicing\n",
    "# Basic slicing uses the colon : operator to extract a portion of an array. We've already covered basic slicing in the previous lesson, but here's a recap:\n",
    "\n",
    "import numpy as np\n",
    "\n",
    "arr = np.array([0, 1, 2, 3, 4, 5, 6, 7, 8, 9])\n",
    "\n",
    "# Slicing to get a portion of the array\n",
    "subset1 = arr[2:6]   # [2, 3, 4, 5]\n",
    "subset2 = arr[:5]    # [0, 1, 2, 3, 4]\n",
    "subset3 = arr[::2]   # [0, 2, 4, 6, 8]\n",
    "\n",
    "print(subset1)\n",
    "print(subset2)\n",
    "print(subset3)\n"
   ]
  },
  {
   "cell_type": "code",
   "execution_count": null,
   "id": "9b86d114-4178-44aa-8023-a09ad7c12e09",
   "metadata": {},
   "outputs": [],
   "source": []
  }
 ],
 "metadata": {
  "kernelspec": {
   "display_name": "Python 3 (ipykernel)",
   "language": "python",
   "name": "python3"
  },
  "language_info": {
   "codemirror_mode": {
    "name": "ipython",
    "version": 3
   },
   "file_extension": ".py",
   "mimetype": "text/x-python",
   "name": "python",
   "nbconvert_exporter": "python",
   "pygments_lexer": "ipython3",
   "version": "3.11.4"
  }
 },
 "nbformat": 4,
 "nbformat_minor": 5
}
