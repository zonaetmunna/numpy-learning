{
 "cells": [
  {
   "cell_type": "code",
   "execution_count": 1,
   "id": "f6aff359-55cd-4b9e-a1aa-367d26ef8718",
   "metadata": {},
   "outputs": [
    {
     "name": "stdout",
     "output_type": "stream",
     "text": [
      "[20 40]\n"
     ]
    }
   ],
   "source": [
    "import numpy as np\n",
    "\n",
    "arr = np.array([10, 20, 30, 40, 50])\n",
    "\n",
    "# Fancy indexing with an array of indices\n",
    "indices = np.array([1, 3])\n",
    "selected_elements = arr[indices]\n",
    "\n",
    "print(selected_elements)  # Output: [20, 40]\n"
   ]
  },
  {
   "cell_type": "code",
   "execution_count": null,
   "id": "cbfc7e3d-dcac-4394-b776-01b212fdf9fa",
   "metadata": {},
   "outputs": [],
   "source": []
  }
 ],
 "metadata": {
  "kernelspec": {
   "display_name": "Python 3 (ipykernel)",
   "language": "python",
   "name": "python3"
  },
  "language_info": {
   "codemirror_mode": {
    "name": "ipython",
    "version": 3
   },
   "file_extension": ".py",
   "mimetype": "text/x-python",
   "name": "python",
   "nbconvert_exporter": "python",
   "pygments_lexer": "ipython3",
   "version": "3.11.4"
  }
 },
 "nbformat": 4,
 "nbformat_minor": 5
}
