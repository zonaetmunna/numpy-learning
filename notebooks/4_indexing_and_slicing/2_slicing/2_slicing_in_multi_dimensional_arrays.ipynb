{
 "cells": [
  {
   "cell_type": "code",
   "execution_count": 1,
   "id": "ae7a3c0d-60b0-4ecd-95c3-1a9207120c2a",
   "metadata": {},
   "outputs": [
    {
     "name": "stdout",
     "output_type": "stream",
     "text": [
      "[[2 3]\n",
      " [5 6]]\n",
      "[2 5 8]\n"
     ]
    }
   ],
   "source": [
    "import numpy as np\n",
    "\n",
    "arr = np.array([[1, 2, 3],\n",
    "                [4, 5, 6],\n",
    "                [7, 8, 9]])\n",
    "\n",
    "# Slicing to extract subarrays\n",
    "subarray1 = arr[0:2, 1:3]\n",
    "subarray2 = arr[:, 1]  # Slicing a specific column\n",
    "\n",
    "print(subarray1)\n",
    "print(subarray2)\n"
   ]
  },
  {
   "cell_type": "code",
   "execution_count": null,
   "id": "aea3b339-b10f-41bf-b97c-8b342cb1dcea",
   "metadata": {},
   "outputs": [],
   "source": []
  }
 ],
 "metadata": {
  "kernelspec": {
   "display_name": "Python 3 (ipykernel)",
   "language": "python",
   "name": "python3"
  },
  "language_info": {
   "codemirror_mode": {
    "name": "ipython",
    "version": 3
   },
   "file_extension": ".py",
   "mimetype": "text/x-python",
   "name": "python",
   "nbconvert_exporter": "python",
   "pygments_lexer": "ipython3",
   "version": "3.11.4"
  }
 },
 "nbformat": 4,
 "nbformat_minor": 5
}
