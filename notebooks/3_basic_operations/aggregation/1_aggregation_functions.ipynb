{
 "cells": [
  {
   "cell_type": "code",
   "execution_count": 1,
   "id": "fbaf307e-29d4-467c-af56-1044fad5bcce",
   "metadata": {},
   "outputs": [
    {
     "name": "stdout",
     "output_type": "stream",
     "text": [
      "21\n",
      "[5 7 9]\n",
      "[ 6 15]\n"
     ]
    }
   ],
   "source": [
    "# 1. numpy.sum\n",
    "import numpy as np\n",
    "\n",
    "arr = np.array([[1, 2, 3], [4, 5, 6]])\n",
    "\n",
    "# Sum of all elements\n",
    "total_sum = np.sum(arr)\n",
    "\n",
    "# Sum along rows (axis=0)\n",
    "row_sum = np.sum(arr, axis=0)\n",
    "\n",
    "# Sum along columns (axis=1)\n",
    "col_sum = np.sum(arr, axis=1)\n",
    "\n",
    "print(total_sum)  # Output: 21\n",
    "print(row_sum)    # Output: [5 7 9]\n",
    "print(col_sum)    # Output: [ 6 15]\n"
   ]
  },
  {
   "cell_type": "code",
   "execution_count": 2,
   "id": "66978e33-5b2a-46df-9c2e-b2ef8af1e4c6",
   "metadata": {},
   "outputs": [
    {
     "name": "stdout",
     "output_type": "stream",
     "text": [
      "3.5\n",
      "[2.5 3.5 4.5]\n",
      "[2. 5.]\n"
     ]
    }
   ],
   "source": [
    "# 2.numpy.mean\n",
    "\n",
    "import numpy as np\n",
    "\n",
    "arr = np.array([[1, 2, 3], [4, 5, 6]])\n",
    "\n",
    "# Mean of all elements\n",
    "average = np.mean(arr)\n",
    "\n",
    "# Mean along rows (axis=0)\n",
    "row_average = np.mean(arr, axis=0)\n",
    "\n",
    "# Mean along columns (axis=1)\n",
    "col_average = np.mean(arr, axis=1)\n",
    "\n",
    "print(average)    # Output: 3.5\n",
    "print(row_average)  # Output: [2.5 3.5 4.5]\n",
    "print(col_average)  # Output: [2. 5.]\n"
   ]
  },
  {
   "cell_type": "code",
   "execution_count": 3,
   "id": "125e4db8-0847-4d20-8fc8-9827f1a0018d",
   "metadata": {},
   "outputs": [
    {
     "name": "stdout",
     "output_type": "stream",
     "text": [
      "1.707825127659933\n",
      "[1.5 1.5 1.5]\n",
      "[0.81649658 0.81649658]\n"
     ]
    }
   ],
   "source": [
    "# 3.numpy.std\n",
    "\n",
    "import numpy as np\n",
    "\n",
    "arr = np.array([[1, 2, 3], [4, 5, 6]])\n",
    "\n",
    "# Standard deviation of all elements\n",
    "std_deviation = np.std(arr)\n",
    "\n",
    "# Standard deviation along rows (axis=0)\n",
    "row_std_deviation = np.std(arr, axis=0)\n",
    "\n",
    "# Standard deviation along columns (axis=1)\n",
    "col_std_deviation = np.std(arr, axis=1)\n",
    "\n",
    "print(std_deviation)       # Output: 1.707825127659933\n",
    "print(row_std_deviation)   # Output: [1.5 1.5 1.5]\n",
    "print(col_std_deviation)   # Output: [0.81649658 0.81649658]\n"
   ]
  },
  {
   "cell_type": "code",
   "execution_count": null,
   "id": "ac2e78bb-a6b1-42bc-beb3-5083f80f946f",
   "metadata": {},
   "outputs": [],
   "source": []
  }
 ],
 "metadata": {
  "kernelspec": {
   "display_name": "Python 3 (ipykernel)",
   "language": "python",
   "name": "python3"
  },
  "language_info": {
   "codemirror_mode": {
    "name": "ipython",
    "version": 3
   },
   "file_extension": ".py",
   "mimetype": "text/x-python",
   "name": "python",
   "nbconvert_exporter": "python",
   "pygments_lexer": "ipython3",
   "version": "3.11.4"
  }
 },
 "nbformat": 4,
 "nbformat_minor": 5
}
