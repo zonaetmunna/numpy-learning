{
 "cells": [
  {
   "cell_type": "code",
   "execution_count": 1,
   "id": "b2a30205-ce95-4846-bf68-e2b357bf2278",
   "metadata": {},
   "outputs": [
    {
     "name": "stdout",
     "output_type": "stream",
     "text": [
      "[5 7 9]\n",
      "[-3 -3 -3]\n",
      "[ 4 10 18]\n",
      "[0.25 0.4  0.5 ]\n"
     ]
    }
   ],
   "source": [
    "# Basic Element-wise Arithmetic Operations\n",
    "\n",
    "import numpy as np\n",
    "\n",
    "# Create two arrays\n",
    "arr1 = np.array([1, 2, 3])\n",
    "arr2 = np.array([4, 5, 6])\n",
    "\n",
    "# Element-wise addition\n",
    "result_add = arr1 + arr2\n",
    "\n",
    "# Element-wise subtraction\n",
    "result_subtract = arr1 - arr2\n",
    "\n",
    "# Element-wise multiplication\n",
    "result_multiply = arr1 * arr2\n",
    "\n",
    "# Element-wise division\n",
    "result_divide = arr1 / arr2\n",
    "\n",
    "print(result_add)       # [5 7 9]\n",
    "print(result_subtract)  # [-3 -3 -3]\n",
    "print(result_multiply)  # [ 4 10 18]\n",
    "print(result_divide)    # [0.25 0.4  0.5 ]\n"
   ]
  },
  {
   "cell_type": "code",
   "execution_count": null,
   "id": "2b1f0786-eef0-4260-b064-052e4a25a588",
   "metadata": {},
   "outputs": [],
   "source": []
  }
 ],
 "metadata": {
  "kernelspec": {
   "display_name": "Python 3 (ipykernel)",
   "language": "python",
   "name": "python3"
  },
  "language_info": {
   "codemirror_mode": {
    "name": "ipython",
    "version": 3
   },
   "file_extension": ".py",
   "mimetype": "text/x-python",
   "name": "python",
   "nbconvert_exporter": "python",
   "pygments_lexer": "ipython3",
   "version": "3.11.4"
  }
 },
 "nbformat": 4,
 "nbformat_minor": 5
}
