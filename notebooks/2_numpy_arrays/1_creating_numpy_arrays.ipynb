{
 "cells": [
  {
   "cell_type": "code",
   "execution_count": 4,
   "id": "8e1a0c4c-1679-4369-8b4f-633c4aefd0bc",
   "metadata": {},
   "outputs": [
    {
     "name": "stdout",
     "output_type": "stream",
     "text": [
      "[1 2 3 4 5]\n",
      "[[0. 0. 0. 0.]\n",
      " [0. 0. 0. 0.]\n",
      " [0. 0. 0. 0.]]\n",
      "[[1. 1. 1.]\n",
      " [1. 1. 1.]]\n",
      "[0 2 4 6 8]\n"
     ]
    }
   ],
   "source": [
    "# Creating Arrays using NumPy\n",
    "import numpy as np\n",
    "\n",
    "# 1. Using numpy.array\n",
    "my_list = [1, 2, 3, 4, 5]\n",
    "my_array = np.array(my_list)\n",
    "print(my_array)\n",
    "\n",
    "# Using numpy.zeros\n",
    "zeros_array = np.zeros((3, 4))\n",
    "print(zeros_array)\n",
    "\n",
    "# Using numpy.ones\n",
    "ones_array = np.ones((2, 3))\n",
    "print(ones_array)\n",
    "\n",
    "# Using numpy.arrange:\n",
    "range_array = np.arange(0, 10, 2)\n",
    "print(range_array)\n",
    "\n"
   ]
  },
  {
   "cell_type": "code",
   "execution_count": null,
   "id": "59d66997-a589-4510-9027-8076737d92ae",
   "metadata": {},
   "outputs": [],
   "source": []
  }
 ],
 "metadata": {
  "kernelspec": {
   "display_name": "Python 3 (ipykernel)",
   "language": "python",
   "name": "python3"
  },
  "language_info": {
   "codemirror_mode": {
    "name": "ipython",
    "version": 3
   },
   "file_extension": ".py",
   "mimetype": "text/x-python",
   "name": "python",
   "nbconvert_exporter": "python",
   "pygments_lexer": "ipython3",
   "version": "3.11.4"
  }
 },
 "nbformat": 4,
 "nbformat_minor": 5
}
