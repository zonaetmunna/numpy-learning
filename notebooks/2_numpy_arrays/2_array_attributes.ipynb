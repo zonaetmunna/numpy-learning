{
 "cells": [
  {
   "cell_type": "code",
   "execution_count": 3,
   "id": "96827f90-1b6c-4a2e-8580-e872088cd6f5",
   "metadata": {},
   "outputs": [
    {
     "name": "stdout",
     "output_type": "stream",
     "text": [
      "(2, 3)\n",
      "6\n",
      "float64\n"
     ]
    }
   ],
   "source": [
    "# 1. Shape:\n",
    "\n",
    "import numpy as np\n",
    "\n",
    "arr = np.array([[1, 2, 3], [4, 5, 6]])\n",
    "shape = arr.shape\n",
    "\n",
    "print(shape)  # Output: (2, 3)\n"
   ]
  },
  {
   "cell_type": "code",
   "execution_count": 4,
   "id": "7414f0e8-4ad5-4850-90e2-2245f949be13",
   "metadata": {},
   "outputs": [
    {
     "name": "stdout",
     "output_type": "stream",
     "text": [
      "6\n"
     ]
    }
   ],
   "source": [
    "# size\n",
    "\n",
    "import numpy as np\n",
    "arr = np.array([[1, 2, 3], [4, 5, 6]])\n",
    "size = arr.size\n",
    "\n",
    "print(size)  # Output: 6"
   ]
  },
  {
   "cell_type": "code",
   "execution_count": 5,
   "id": "264af344-40c8-4288-9e9b-a42f1c0754b7",
   "metadata": {},
   "outputs": [
    {
     "name": "stdout",
     "output_type": "stream",
     "text": [
      "float64\n"
     ]
    }
   ],
   "source": [
    "# Data Type\n",
    "\n",
    "import numpy as np\n",
    "\n",
    "arr = np.array([1, 2, 3], dtype=np.float64)\n",
    "data_type = arr.dtype\n",
    "\n",
    "print(data_type)  # Output: float64"
   ]
  },
  {
   "cell_type": "code",
   "execution_count": null,
   "id": "27a8db7b-a8f2-44a3-8ec6-28403408eb16",
   "metadata": {},
   "outputs": [],
   "source": []
  }
 ],
 "metadata": {
  "kernelspec": {
   "display_name": "Python 3 (ipykernel)",
   "language": "python",
   "name": "python3"
  },
  "language_info": {
   "codemirror_mode": {
    "name": "ipython",
    "version": 3
   },
   "file_extension": ".py",
   "mimetype": "text/x-python",
   "name": "python",
   "nbconvert_exporter": "python",
   "pygments_lexer": "ipython3",
   "version": "3.11.4"
  }
 },
 "nbformat": 4,
 "nbformat_minor": 5
}
