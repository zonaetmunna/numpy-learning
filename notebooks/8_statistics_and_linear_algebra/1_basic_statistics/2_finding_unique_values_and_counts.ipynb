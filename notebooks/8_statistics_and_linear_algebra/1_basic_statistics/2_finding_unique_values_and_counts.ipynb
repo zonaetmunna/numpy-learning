{
 "cells": [
  {
   "cell_type": "code",
   "execution_count": 1,
   "id": "5598715a-1f72-4c82-a028-9b96a892cf41",
   "metadata": {},
   "outputs": [
    {
     "name": "stdout",
     "output_type": "stream",
     "text": [
      "[1 2 3 4 5]\n"
     ]
    }
   ],
   "source": [
    "# 1. Unique Values\n",
    "# To find unique values in an array, you can use numpy.unique:\n",
    "\n",
    "import numpy as np\n",
    "\n",
    "arr = np.array([1, 2, 2, 3, 3, 4, 5])\n",
    "\n",
    "unique_values = np.unique(arr)\n",
    "\n",
    "print(unique_values)  # Output: [1 2 3 4 5]\n"
   ]
  },
  {
   "cell_type": "code",
   "execution_count": 2,
   "id": "41870e5b-4af4-45ce-8ca9-49365b7dc2c6",
   "metadata": {},
   "outputs": [
    {
     "name": "stdout",
     "output_type": "stream",
     "text": [
      "[1 2 3 4 5]\n",
      "[1 2 2 1 1]\n"
     ]
    }
   ],
   "source": [
    "# 2. Value Counts\n",
    "# To find the count of each unique value in an array, you can use numpy.unique with the return_counts=True parameter:\n",
    "\n",
    "import numpy as np\n",
    "\n",
    "arr = np.array([1, 2, 2, 3, 3, 4, 5])\n",
    "\n",
    "unique_values, value_counts = np.unique(arr, return_counts=True)\n",
    "\n",
    "print(unique_values)    # Output: [1 2 3 4 5]\n",
    "print(value_counts)     # Output: [1 2 2 1 1]\n"
   ]
  },
  {
   "cell_type": "code",
   "execution_count": null,
   "id": "7ddedd74-526a-4780-8d58-cbee40a7da13",
   "metadata": {},
   "outputs": [],
   "source": []
  }
 ],
 "metadata": {
  "kernelspec": {
   "display_name": "Python 3 (ipykernel)",
   "language": "python",
   "name": "python3"
  },
  "language_info": {
   "codemirror_mode": {
    "name": "ipython",
    "version": 3
   },
   "file_extension": ".py",
   "mimetype": "text/x-python",
   "name": "python",
   "nbconvert_exporter": "python",
   "pygments_lexer": "ipython3",
   "version": "3.11.4"
  }
 },
 "nbformat": 4,
 "nbformat_minor": 5
}
