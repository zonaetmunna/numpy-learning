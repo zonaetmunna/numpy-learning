{
 "cells": [
  {
   "cell_type": "code",
   "execution_count": 2,
   "id": "d2270b4a-87c4-4f59-ac6f-b6688511b3ff",
   "metadata": {},
   "outputs": [
    {
     "name": "stdout",
     "output_type": "stream",
     "text": [
      "3.0\n"
     ]
    }
   ],
   "source": [
    "# 1. Mean (Average)\n",
    "# The mean (average) of an array can be calculated using numpy.mean:\n",
    "\n",
    "import numpy as np\n",
    "\n",
    "arr = np.array([1, 2, 3, 4, 5])\n",
    "\n",
    "mean = np.mean(arr)\n",
    "\n",
    "print(mean)  # Output: 3.0\n"
   ]
  },
  {
   "cell_type": "code",
   "execution_count": 4,
   "id": "748ca078-9aea-438d-9765-0c5fdb23a25c",
   "metadata": {},
   "outputs": [
    {
     "name": "stdout",
     "output_type": "stream",
     "text": [
      "3.0\n"
     ]
    }
   ],
   "source": [
    "# 2. Median\n",
    "# The median, which is the middle value in a sorted array, can be calculated using numpy.median:\n",
    "\n",
    "import numpy as np\n",
    "\n",
    "arr = np.array([1, 3, 2, 5, 4])\n",
    "\n",
    "median = np.median(arr)\n",
    "print(median)\n"
   ]
  },
  {
   "cell_type": "code",
   "execution_count": 5,
   "id": "eb404ba0-3cdf-4ab1-8c26-7f9386f3c44d",
   "metadata": {},
   "outputs": [
    {
     "name": "stdout",
     "output_type": "stream",
     "text": [
      "2.0\n",
      "1.4142135623730951\n"
     ]
    }
   ],
   "source": [
    "# 3. Variance and Standard Deviation\n",
    "# Variance measures the spread or dispersion of data, and standard deviation is the square root of variance. You can calculate them using numpy.var and numpy.std, respectively:\n",
    "\n",
    "import numpy as np\n",
    "\n",
    "arr = np.array([1, 2, 3, 4, 5])\n",
    "\n",
    "variance = np.var(arr)\n",
    "std_deviation = np.std(arr)\n",
    "\n",
    "print(variance)       # Output: 2.5\n",
    "print(std_deviation)  # Output: 1.5811388300841898\n"
   ]
  },
  {
   "cell_type": "code",
   "execution_count": null,
   "id": "30f0ead8-7884-4f8e-8e55-a1175e0a3d31",
   "metadata": {},
   "outputs": [],
   "source": []
  }
 ],
 "metadata": {
  "kernelspec": {
   "display_name": "Python 3 (ipykernel)",
   "language": "python",
   "name": "python3"
  },
  "language_info": {
   "codemirror_mode": {
    "name": "ipython",
    "version": 3
   },
   "file_extension": ".py",
   "mimetype": "text/x-python",
   "name": "python",
   "nbconvert_exporter": "python",
   "pygments_lexer": "ipython3",
   "version": "3.11.4"
  }
 },
 "nbformat": 4,
 "nbformat_minor": 5
}
