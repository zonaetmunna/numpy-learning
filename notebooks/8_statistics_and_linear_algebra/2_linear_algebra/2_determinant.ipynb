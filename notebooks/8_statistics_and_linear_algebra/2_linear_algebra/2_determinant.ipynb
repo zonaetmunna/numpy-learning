{
 "cells": [
  {
   "cell_type": "code",
   "execution_count": 1,
   "id": "9fe14317-af71-47fe-9a4b-9e442839a2f3",
   "metadata": {},
   "outputs": [
    {
     "name": "stdout",
     "output_type": "stream",
     "text": [
      "-2.0000000000000004\n"
     ]
    }
   ],
   "source": [
    "import numpy as np\n",
    "\n",
    "# Create a square matrix\n",
    "matrix = np.array([[1, 2], [3, 4]])\n",
    "\n",
    "# Calculate the determinant\n",
    "determinant = np.linalg.det(matrix)\n",
    "\n",
    "print(determinant)\n"
   ]
  },
  {
   "cell_type": "code",
   "execution_count": null,
   "id": "ddd6897f-dfc4-435d-8837-91c8b09134bd",
   "metadata": {},
   "outputs": [],
   "source": []
  }
 ],
 "metadata": {
  "kernelspec": {
   "display_name": "Python 3 (ipykernel)",
   "language": "python",
   "name": "python3"
  },
  "language_info": {
   "codemirror_mode": {
    "name": "ipython",
    "version": 3
   },
   "file_extension": ".py",
   "mimetype": "text/x-python",
   "name": "python",
   "nbconvert_exporter": "python",
   "pygments_lexer": "ipython3",
   "version": "3.11.4"
  }
 },
 "nbformat": 4,
 "nbformat_minor": 5
}
